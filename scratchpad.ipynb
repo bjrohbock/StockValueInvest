{
 "cells": [
  {
   "cell_type": "code",
   "execution_count": 3,
   "metadata": {},
   "outputs": [
    {
     "name": "stdout",
     "output_type": "stream",
     "text": [
      "[\n",
      "  {\n",
      "    \"symbol\": \"AAPL\",\n",
      "    \"date\": \"2023-12-18\",\n",
      "    \"dcf\": 143.91976901939367,\n",
      "    \"Stock Price\": 195.7499\n",
      "  }\n",
      "]\n"
     ]
    }
   ],
   "source": [
    "import requests\n",
    "import os\n",
    "from dotenv import load_dotenv\n",
    "\n",
    "load_dotenv()\n",
    "API_KEY = os.getenv('API_KEY')\n",
    "\n",
    "ticker = 'AAPL'\n",
    "metric_dictionary = {}\n",
    "\n",
    "# returns date dcf\n",
    "dcf_url = f'https://financialmodelingprep.com/api/v3/discounted-cash-flow/{ticker}?apikey={API_KEY}'\n",
    "advanced_dcf_url = f'https://financialmodelingprep.com/api/v4/advanced_discounted_cash_flow?symbol={ticker}]'\n",
    "response = requests.request(\"GET\", url, headers=headers, data=payload)\n",
    "\n",
    "print(response.text)"
   ]
  },
  {
   "cell_type": "code",
   "execution_count": 4,
   "metadata": {},
   "outputs": [
    {
     "name": "stdout",
     "output_type": "stream",
     "text": [
      "<Response [200]>\n"
     ]
    }
   ],
   "source": [
    "print(response)"
   ]
  }
 ],
 "metadata": {
  "kernelspec": {
   "display_name": "prefect_env",
   "language": "python",
   "name": "python3"
  },
  "language_info": {
   "codemirror_mode": {
    "name": "ipython",
    "version": 3
   },
   "file_extension": ".py",
   "mimetype": "text/x-python",
   "name": "python",
   "nbconvert_exporter": "python",
   "pygments_lexer": "ipython3",
   "version": "3.9.6"
  }
 },
 "nbformat": 4,
 "nbformat_minor": 2
}
